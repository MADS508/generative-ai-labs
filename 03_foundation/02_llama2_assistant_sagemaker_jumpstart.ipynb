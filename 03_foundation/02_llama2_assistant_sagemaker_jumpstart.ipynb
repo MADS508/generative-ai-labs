{
 "cells": [
  {
   "cell_type": "markdown",
   "id": "6c220782-b82e-48ea-873b-92a5530db930",
   "metadata": {},
   "source": [
    "# AI Assistant with LLama2 7B\n",
    "### In Sagemaker Studio use Image: Data Science 3.0, Instance Type ml.m5.large"
   ]
  },
  {
   "cell_type": "markdown",
   "id": "4713e8c2-05c4-4815-a01f-c22340e868d3",
   "metadata": {},
   "source": [
    "In this notebook you'll make an AI assistant to help customers make the best decision about getting a new shoe from Cloudrunners Shoes. You will also take a short dive into practical token limitations for the model you are working with, and where you can focus your learning in the case you need to build more powerful AI agent systems."
   ]
  },
  {
   "cell_type": "markdown",
   "id": "e75a1758-c5de-40d7-8f8a-49ff3a28d01d",
   "metadata": {},
   "source": [
    "## Setup\n",
    "\n",
    "***"
   ]
  },
  {
   "cell_type": "code",
   "execution_count": 6,
   "id": "cfcc8b39-0e40-4198-b3a9-da9b3c0018d8",
   "metadata": {
    "tags": []
   },
   "outputs": [
    {
     "name": "stdout",
     "output_type": "stream",
     "text": [
      "\u001b[33mWARNING: Running pip as the 'root' user can result in broken permissions and conflicting behaviour with the system package manager. It is recommended to use a virtual environment instead: https://pip.pypa.io/warnings/venv\u001b[0m\u001b[33m\n",
      "\u001b[0mNote: you may need to restart the kernel to use updated packages.\n"
     ]
    }
   ],
   "source": [
    "%pip install --upgrade --quiet sagemaker"
   ]
  },
  {
   "cell_type": "markdown",
   "id": "3a42e9cd-1403-423d-aa3f-be523afa5d41",
   "metadata": {},
   "source": [
    "***\n",
    "You can continue with the default model or choose a different model: this notebook will run with the following model IDs :\n",
    "- `meta-textgeneration-llama-2-7b-f`\n",
    "- `meta-textgeneration-llama-2-13b-f`\n",
    "- `meta-textgeneration-llama-2-70b-f`\n",
    "***"
   ]
  },
  {
   "cell_type": "code",
   "execution_count": 7,
   "id": "7025c27f-82cb-4eee-bc10-1dad7031bf09",
   "metadata": {
    "jumpStartAlterations": [
     "modelIdVersion"
    ],
    "tags": []
   },
   "outputs": [],
   "source": [
    "model_id, model_version = \"meta-textgeneration-llama-2-7b-f\", \"2.*\"\n",
    "\n",
    "instance_type = \"ml.g5.xlarge\""
   ]
  },
  {
   "cell_type": "markdown",
   "id": "faaf180c-d8d6-4c42-b809-6a82590de034",
   "metadata": {},
   "source": [
    "## Deploy model (this will take 10-15 minutes)\n",
    "\n",
    "***\n",
    "You can now deploy the model using SageMaker JumpStart.\n",
    "***"
   ]
  },
  {
   "cell_type": "code",
   "execution_count": 8,
   "id": "fc4b46ad-3c0d-40a8-a842-90cf1b6bbee1",
   "metadata": {
    "tags": []
   },
   "outputs": [
    {
     "name": "stdout",
     "output_type": "stream",
     "text": [
      "------------!"
     ]
    }
   ],
   "source": [
    "from sagemaker.jumpstart.model import JumpStartModel\n",
    "\n",
    "model = JumpStartModel(model_id=model_id, instance_type=instance_type)\n",
    "\n",
    "predictor = model.deploy(accept_eula=True)"
   ]
  },
  {
   "cell_type": "code",
   "execution_count": 9,
   "id": "f71874f9-15f6-445b-bd75-9753ccead4fa",
   "metadata": {
    "tags": []
   },
   "outputs": [],
   "source": [
    "def prompt_with_system_message(prompt, system_message):\n",
    "    prompt = f\"\"\"\n",
    "    <s>[INST] <<SYS>>{system_message}<</SYS>>\n",
    "\n",
    "    User: {prompt}\n",
    "    Agent:[/INST]\n",
    "    \"\"\"\n",
    "    return prompt"
   ]
  },
  {
   "cell_type": "code",
   "execution_count": 10,
   "id": "21d78b70",
   "metadata": {},
   "outputs": [],
   "source": [
    "endpoint_name = predictor.endpoint_name\n",
    "\n",
    "import boto3, json\n",
    "sm_client = boto3.client('sagemaker-runtime')\n",
    "\n",
    "def format_messages(messages) :\n",
    "    \"\"\"Format messages for Llama-2 chat models.\n",
    "    The model only supports 'system', 'user' and 'assistant' roles, starting with 'system', then 'user' and \n",
    "    alternating (u/a/u/a/u...). The last message must be from 'user'.\n",
    "    \"\"\"\n",
    "    prompt: List[str] = []\n",
    "\n",
    "    if messages[0][\"role\"] == \"system\":\n",
    "        content = \"\".join([\"<<SYS>>\\n\", messages[0][\"content\"], \"\\n<</SYS>>\\n\\n\", messages[1][\"content\"]])\n",
    "        messages = [{\"role\": messages[1][\"role\"], \"content\": content}] + messages[2:]\n",
    "\n",
    "    for user, answer in zip(messages[::2], messages[1::2]):\n",
    "        prompt.extend([\"<s>\", \"[INST] \", (user[\"content\"]).strip(), \" [/INST] \", (answer[\"content\"]).strip(), \"</s>\"])\n",
    "\n",
    "    prompt.extend([\"<s>\", \"[INST] \", (messages[-1][\"content\"]).strip(), \" [/INST] \"])\n",
    "\n",
    "    return \"\".join(prompt)\n",
    "\n",
    "def transform_input(prompt: str, temperature) -> bytes:\n",
    "    test = [{\"role\": \"user\", \"content\": prompt}]\n",
    "    input_str = json.dumps({\n",
    "        \"inputs\": format_messages(test),\n",
    "        \"parameters\": {\"max_new_tokens\": 512,\"top_p\": 0.9,\"temperature\": temperature}\n",
    "    })\n",
    "    return input_str.encode('utf-8')\n",
    "\n",
    "\n",
    "def transform_output(output: bytes) -> str:\n",
    "    response_json = json.loads(output['Body'].read().decode(\"utf-8\"))\n",
    "    return response_json[0][\"generated_text\"]\n",
    "\n",
    "def generate(prompt, temperature = 0.6):\n",
    "    response = sm_client.invoke_endpoint(\n",
    "        EndpointName=endpoint_name, \n",
    "        CustomAttributes=\"accept_eula=true\", \n",
    "        ContentType=\"application/json\",\n",
    "        Body=transform_input(prompt, temperature)\n",
    "    )\n",
    "    response_output = transform_output(response)\n",
    "    return response_output"
   ]
  },
  {
   "cell_type": "markdown",
   "id": "d5cebf00-8443-4314-be4e-0f5e876c7697",
   "metadata": {},
   "source": [
    "### Edit System Message"
   ]
  },
  {
   "cell_type": "markdown",
   "id": "91434430-41a6-488c-a8a5-99ffb23bc635",
   "metadata": {},
   "source": [
    "### Include One-to-many Shot Learning"
   ]
  },
  {
   "cell_type": "code",
   "execution_count": 11,
   "id": "2d6133ce-3b12-4441-8b48-9d6e2ba9896b",
   "metadata": {
    "tags": []
   },
   "outputs": [],
   "source": [
    "def prompt_with_examples(prompt, system_message, examples=[]):\n",
    "    \n",
    "    # Start with the initial part of the prompt with system message\n",
    "    full_prompt = f\"<s>[INST] <<SYS>>{system_message}<</SYS>>\\n\"\n",
    "\n",
    "    # Add each example to the prompt\n",
    "    for user_msg, agent_response in examples:\n",
    "        full_prompt += f\"{user_msg} [/INST] {agent_response} </s><s>[INST]\"\n",
    "\n",
    "    # Add the main prompt and close the template\n",
    "    full_prompt += f\"{prompt} [/INST]\"\n",
    "\n",
    "    return full_prompt"
   ]
  },
  {
   "cell_type": "markdown",
   "id": "a17c1228-3280-4798-9558-e19139b77b6c",
   "metadata": {},
   "source": [
    "### LlamaChatbot Class"
   ]
  },
  {
   "cell_type": "code",
   "execution_count": 12,
   "id": "36e18ccd-72e4-40aa-a2fb-d8359fb5fda8",
   "metadata": {
    "tags": []
   },
   "outputs": [],
   "source": [
    "class LlamaChatbot:\n",
    "    def __init__(self, system_message):\n",
    "        self.system_message = system_message\n",
    "        self.conversation_history = []  # list of tuples (user_msg, agent_response)\n",
    "\n",
    "    def chat(self, user_msg):\n",
    "        # Generate the prompt using the conversation history and the new user message\n",
    "        prompt = prompt_with_examples(user_msg, self.system_message, self.conversation_history)\n",
    "        \n",
    "        # Get the model's response\n",
    "        agent_response = generate(prompt)\n",
    "\n",
    "        # Store this interaction in the conversation history\n",
    "        self.conversation_history.append((user_msg, agent_response))\n",
    "\n",
    "        return agent_response\n",
    "\n",
    "    def reset(self):\n",
    "        # Clear conversation history\n",
    "        self.conversation_history = []"
   ]
  },
  {
   "cell_type": "markdown",
   "id": "6781a436-aec7-47d6-83a3-3cccf373c978",
   "metadata": {},
   "source": [
    "## Data"
   ]
  },
  {
   "cell_type": "markdown",
   "id": "ef88361d-a326-4a8d-bd75-31742be6378b",
   "metadata": {
    "tags": []
   },
   "source": [
    "### Cloudrunners Shoes Details"
   ]
  },
  {
   "cell_type": "code",
   "execution_count": 13,
   "id": "09ea1e03-4438-4bea-af72-e5a5fe2783ef",
   "metadata": {
    "tags": []
   },
   "outputs": [],
   "source": [
    "shoes = [\n",
    "    {\n",
    "        \"model\": \"Sky Glider\",\n",
    "        \"type\": \"Running\", \n",
    "        \"features\": {\n",
    "            \"upper\": \"Mesh\",\n",
    "            \"sole\": \"EVA foam\",\n",
    "            \"lacing\": \"Quick-tie\",\n",
    "            \"drop\": \"8mm\",\n",
    "            \"color\": \"Blue with yellow accents\"\n",
    "        },\n",
    "        \"usps\": [\"Lightweight\", \"Responsive cushioning\", \"Seamless upper\"],\n",
    "        \"price\": 119.95,\n",
    "        \"internal_id\": \"SG123\",\n",
    "        \"weight\": \"220g\",\n",
    "        \"manufacturer_location\": \"Vietnam\"\n",
    "    },\n",
    "    {   \n",
    "        \"model\": \"Trail Trekker\",\n",
    "        \"type\": \"Hiking\",\n",
    "        \"features\": {\n",
    "            \"upper\": \"Synthetic leather\",\n",
    "            \"sole\": \"Rubber lug\", \n",
    "            \"lacing\": \"Traditional\",\n",
    "            \"drop\": \"12mm\",\n",
    "            \"color\": \"Khaki green\"\n",
    "        },\n",
    "        \"usps\": [\"Rugged construction\", \"Super grippy sole\", \"Waterproof\"], \n",
    "        \"price\": 129.99,\n",
    "        \"internal_id\": \"TT321\",\n",
    "        \"weight\": \"340g\",\n",
    "        \"manufacturer_location\": \"China\"\n",
    "    },\n",
    "    {\n",
    "        \"model\": \"Marathon Master\",\n",
    "        \"type\": \"Racing\",\n",
    "        \"features\": {\n",
    "            \"upper\": \"Mesh\",\n",
    "            \"sole\": \"Carbon fiber plate\",\n",
    "            \"lacing\": \"Speed laces\",\n",
    "            \"drop\": \"6mm\",\n",
    "            \"color\": \"Neon yellow and black\"\n",
    "        },\n",
    "        \"usps\": [\"Maximizes energy return\", \"Lightning fast\", \"Seamless comfort\"],\n",
    "        \"price\": 179.50, \n",
    "        \"internal_id\": \"MM111\",\n",
    "        \"weight\": \"180g\",\n",
    "        \"manufacturer_location\": \"USA\"\n",
    "    }\n",
    "]"
   ]
  },
  {
   "cell_type": "markdown",
   "id": "1ffb9670-9447-43bd-9f42-1c36adc9fe00",
   "metadata": {},
   "source": [
    "## Shoes AI Assistant"
   ]
  },
  {
   "cell_type": "code",
   "execution_count": 14,
   "id": "f807d3b9-00a0-428d-beb4-07e061fcc06d",
   "metadata": {
    "tags": []
   },
   "outputs": [],
   "source": [
    "system_message = \"\"\"\n",
    "You are a friendly chatbot knowledgeable about shoes. \\\n",
    "When asked about specific shoe models or features, you try to provide accurate and helpful answers. \\\n",
    "Your goal is to assist and inform potential customers to the best of your ability.\n",
    "\"\"\"\n",
    "\n",
    "chatbot = LlamaChatbot(system_message)"
   ]
  },
  {
   "cell_type": "code",
   "execution_count": 15,
   "id": "80de7b39-d9e0-43db-906a-96fb33ce149f",
   "metadata": {
    "scrolled": true,
    "tags": []
   },
   "outputs": [
    {
     "name": "stdout",
     "output_type": "stream",
     "text": [
      "<s>[INST] <s>[INST] <<SYS>>\n",
      "You are a friendly chatbot knowledgeable about shoes. When asked about specific shoe models or features, you try to provide accurate and helpful answers. Your goal is to assist and inform potential customers to the best of your ability.\n",
      "<</SYS>>\n",
      "Can you tell me about the latest models? [/INST] [/INST]  Of course! I'd be happy to help you with the latest shoe models. There are so many great options out there, and I'm sure I can find something that suits your style and preferences.\n",
      "\n",
      "For men, some of the latest trends include:\n",
      "\n",
      "1. Sneakers: The classic basketball shoes have evolved into stylish and comfortable lifestyle shoes. Look for bold colors, eye-catching designs, and premium materials like leather and suede.\n",
      "2. Boat shoes: These lace-up shoes are perfect for casual, nautical-inspired looks. Look for boat shoes with leather or suede uppers, and consider adding a touch of color with contrasting laces or a bold sole.\n",
      "3. Loafers: These slip-on shoes are great for dressing up or down. Look for luxurious materials like velvet or suede, and consider a sleek, minimalist design for a stylish look.\n",
      "4. Chelsea boots: These ankle-high boots are a versatile choice for fall and winter. Look for styles with elastic gore panels for easy slip-on wear, and consider a rich, luxurious leather for added style.\n",
      "\n",
      "For women, some of the latest trends include:\n",
      "\n",
      "1. Platform sandals: These shoes are back in style, and there are so many great options to choose from. Look for bold colors and patterns, or go for a more understated look with a neutral color and a subtle heel.\n",
      "2. Combat boots: These rugged, military-inspired boots are perfect for a tough, edgy look. Look for styles with bold colors and eye-catching details, or go for a more understated look with a neutral color and a sleek design.\n",
      "3. Mules: These shoes are great for adding a touch of elegance to any outfit. Look for styles with delicate details like bows or tassels, or go for a more modern look with a sleek, minimalist design.\n",
      "4. Espadrilles: These flat, rope-soled shoes are perfect for warm weather. Look for styles with bold colors and patterns, or go for a more understated look with a neutral color and a classic design.\n",
      "\n"
     ]
    }
   ],
   "source": [
    "print(chatbot.chat(\"Can you tell me about the latest models?\"))"
   ]
  },
  {
   "cell_type": "code",
   "execution_count": 16,
   "id": "549fc0ac-9e17-477b-9f88-2cc49607d515",
   "metadata": {
    "tags": []
   },
   "outputs": [],
   "source": [
    "chatbot.reset()"
   ]
  },
  {
   "cell_type": "markdown",
   "id": "34f46541-c7c8-4f44-993f-21df834135b1",
   "metadata": {},
   "source": [
    "## Cloudrunners Shoes AI Assistant"
   ]
  },
  {
   "cell_type": "code",
   "execution_count": 17,
   "id": "67cb3496-72a5-4f62-a170-0e246e62f101",
   "metadata": {
    "tags": []
   },
   "outputs": [],
   "source": [
    "system_message = f\"\"\"\n",
    "You are a friendly chatbot knowledgeable about these bicycles from Cloudrunners Shoes {shoes}. \\\n",
    "When asked about specific shoe models or features, you try to provide accurate and helpful answers. \\\n",
    "Your goal is to assist and inform potential customers to the best of your ability.\n",
    "\"\"\"\n",
    "\n",
    "chatbot = LlamaChatbot(system_message)"
   ]
  },
  {
   "cell_type": "code",
   "execution_count": 18,
   "id": "a291ed1b-caff-416f-a964-19ee773affe8",
   "metadata": {
    "scrolled": true,
    "tags": []
   },
   "outputs": [
    {
     "name": "stdout",
     "output_type": "stream",
     "text": [
      "<s>[INST] <s>[INST] <<SYS>>\n",
      "You are a friendly chatbot knowledgeable about these bicycles from Cloudrunners Shoes [{'model': 'Sky Glider', 'type': 'Running', 'features': {'upper': 'Mesh', 'sole': 'EVA foam', 'lacing': 'Quick-tie', 'drop': '8mm', 'color': 'Blue with yellow accents'}, 'usps': ['Lightweight', 'Responsive cushioning', 'Seamless upper'], 'price': 119.95, 'internal_id': 'SG123', 'weight': '220g', 'manufacturer_location': 'Vietnam'}, {'model': 'Trail Trekker', 'type': 'Hiking', 'features': {'upper': 'Synthetic leather', 'sole': 'Rubber lug', 'lacing': 'Traditional', 'drop': '12mm', 'color': 'Khaki green'}, 'usps': ['Rugged construction', 'Super grippy sole', 'Waterproof'], 'price': 129.99, 'internal_id': 'TT321', 'weight': '340g', 'manufacturer_location': 'China'}, {'model': 'Marathon Master', 'type': 'Racing', 'features': {'upper': 'Mesh', 'sole': 'Carbon fiber plate', 'lacing': 'Speed laces', 'drop': '6mm', 'color': 'Neon yellow and black'}, 'usps': ['Maximizes energy return', 'Lightning fast', 'Seamless comfort'], 'price': 179.5, 'internal_id': 'MM111', 'weight': '180g', 'manufacturer_location': 'USA'}]. When asked about specific shoe models or features, you try to provide accurate and helpful answers. Your goal is to assist and inform potential customers to the best of your ability.\n",
      "<</SYS>>\n",
      "Can you tell me about the latest models? [/INST] [/INST]  Of course! I'd be happy to help you with the latest models from Cloudrunners Shoes. As of now, they have three latest models:\n",
      "\n",
      "1. Sky Glider: This is a running shoe with a mesh upper and EVA foam sole. It has a quick-tie lacing system and a drop of 8mm, making it a lightweight and responsive shoe. The color is blue with yellow accents, and it weighs 220g. The manufacturer location is Vietnam.\n",
      "2. Trail Trekker: This is a hiking shoe with a synthetic leather upper and a rubber lug sole. It has a traditional lacing system and a drop of 12mm, making it a rugged and super grippy shoe. The color is khaki green, and it weighs 340g. The manufacturer location is China.\n",
      "3. Marathon Master: This is a racing shoe with a mesh upper and a carbon fiber plate sole. It has speed laces and a drop of 6mm, making it a lightning fast and seamless comfortable shoe. The color is neon yellow and black, and it weighs 180g. The manufacturer location is USA.\n",
      "\n",
      "All of these models have some great features that make them stand out from the rest. For example, the Sky Glider has a seamless upper that provides a comfortable fit, while the Trail Trekker has a rugged construction that makes it perfect for hiking. The Marathon Master, on the other hand, has a carbon fiber plate sole that maximizes energy return and provides lightning fast performance.\n",
      "\n",
      "I hope this information helps you find the perfect shoe for your needs! Let me know if you have any other questions.\n"
     ]
    }
   ],
   "source": [
    "print(chatbot.chat(\"Can you tell me about the latest models?\"))"
   ]
  },
  {
   "cell_type": "code",
   "execution_count": 19,
   "id": "bb9f4c4a-294c-4c2c-bbe0-263fde0c5eb6",
   "metadata": {
    "scrolled": true,
    "tags": []
   },
   "outputs": [
    {
     "name": "stdout",
     "output_type": "stream",
     "text": [
      "<s>[INST] <s>[INST] <<SYS>>\n",
      "You are a friendly chatbot knowledgeable about these bicycles from Cloudrunners Shoes [{'model': 'Sky Glider', 'type': 'Running', 'features': {'upper': 'Mesh', 'sole': 'EVA foam', 'lacing': 'Quick-tie', 'drop': '8mm', 'color': 'Blue with yellow accents'}, 'usps': ['Lightweight', 'Responsive cushioning', 'Seamless upper'], 'price': 119.95, 'internal_id': 'SG123', 'weight': '220g', 'manufacturer_location': 'Vietnam'}, {'model': 'Trail Trekker', 'type': 'Hiking', 'features': {'upper': 'Synthetic leather', 'sole': 'Rubber lug', 'lacing': 'Traditional', 'drop': '12mm', 'color': 'Khaki green'}, 'usps': ['Rugged construction', 'Super grippy sole', 'Waterproof'], 'price': 129.99, 'internal_id': 'TT321', 'weight': '340g', 'manufacturer_location': 'China'}, {'model': 'Marathon Master', 'type': 'Racing', 'features': {'upper': 'Mesh', 'sole': 'Carbon fiber plate', 'lacing': 'Speed laces', 'drop': '6mm', 'color': 'Neon yellow and black'}, 'usps': ['Maximizes energy return', 'Lightning fast', 'Seamless comfort'], 'price': 179.5, 'internal_id': 'MM111', 'weight': '180g', 'manufacturer_location': 'USA'}]. When asked about specific shoe models or features, you try to provide accurate and helpful answers. Your goal is to assist and inform potential customers to the best of your ability.\n",
      "<</SYS>>\n",
      "Can you tell me about the latest models? [/INST] <s>[INST] <s>[INST] <<SYS>>\n",
      "You are a friendly chatbot knowledgeable about these bicycles from Cloudrunners Shoes [{'model': 'Sky Glider', 'type': 'Running', 'features': {'upper': 'Mesh', 'sole': 'EVA foam', 'lacing': 'Quick-tie', 'drop': '8mm', 'color': 'Blue with yellow accents'}, 'usps': ['Lightweight', 'Responsive cushioning', 'Seamless upper'], 'price': 119.95, 'internal_id': 'SG123', 'weight': '220g', 'manufacturer_location': 'Vietnam'}, {'model': 'Trail Trekker', 'type': 'Hiking', 'features': {'upper': 'Synthetic leather', 'sole': 'Rubber lug', 'lacing': 'Traditional', 'drop': '12mm', 'color': 'Khaki green'}, 'usps': ['Rugged construction', 'Super grippy sole', 'Waterproof'], 'price': 129.99, 'internal_id': 'TT321', 'weight': '340g', 'manufacturer_location': 'China'}, {'model': 'Marathon Master', 'type': 'Racing', 'features': {'upper': 'Mesh', 'sole': 'Carbon fiber plate', 'lacing': 'Speed laces', 'drop': '6mm', 'color': 'Neon yellow and black'}, 'usps': ['Maximizes energy return', 'Lightning fast', 'Seamless comfort'], 'price': 179.5, 'internal_id': 'MM111', 'weight': '180g', 'manufacturer_location': 'USA'}]. When asked about specific shoe models or features, you try to provide accurate and helpful answers. Your goal is to assist and inform potential customers to the best of your ability.\n",
      "<</SYS>>\n",
      "Can you tell me about the latest models? [/INST] [/INST]  Of course! I'd be happy to help you with the latest models from Cloudrunners Shoes. As of now, they have three latest models:\n",
      "\n",
      "1. Sky Glider: This is a running shoe with a mesh upper and EVA foam sole. It has a quick-tie lacing system and a drop of 8mm, making it a lightweight and responsive shoe. The color is blue with yellow accents, and it weighs 220g. The manufacturer location is Vietnam.\n",
      "2. Trail Trekker: This is a hiking shoe with a synthetic leather upper and a rubber lug sole. It has a traditional lacing system and a drop of 12mm, making it a rugged and super grippy shoe. The color is khaki green, and it weighs 340g. The manufacturer location is China.\n",
      "3. Marathon Master: This is a racing shoe with a mesh upper and a carbon fiber plate sole. It has speed laces and a drop of 6mm, making it a lightning fast and seamless comfortable shoe. The color is neon yellow and black, and it weighs 180g. The manufacturer location is USA.\n",
      "\n",
      "All of these models have some great features that make them stand out from the rest. For example, the Sky Glider has a seamless upper that provides a comfortable fit, while the Trail Trekker has a rugged construction that makes it perfect for hiking. The Marathon Master, on the other hand, has a carbon fiber plate sole that maximizes energy return and provides lightning fast performance.\n",
      "\n",
      "I hope this information helps you find the perfect shoe for your needs! Let me know if you have any other questions. </s><s>[INST]How much do each of the models cost? [/INST] [/INST]  Great question! The prices for the latest models from Cloudrunners Shoes are as follows:\n",
      "\n",
      "1. Sky Glider: $119.95\n",
      "2. Trail Trekker: $129.99\n",
      "3. Marathon Master: $179.50\n",
      "\n",
      "Please note that prices may vary depending on the location and availability. I recommend checking the Cloudrunners Shoes website or visiting a local retailer for the most up-to-date pricing information.\n",
      "\n",
      "I hope this helps! Let me know if you have any other questions.\n"
     ]
    }
   ],
   "source": [
    "print(chatbot.chat(\"How much do each of the models cost?\"))"
   ]
  },
  {
   "cell_type": "code",
   "execution_count": 20,
   "id": "5d3857b5-9993-4551-9f46-59ffcb8fbf39",
   "metadata": {
    "scrolled": true,
    "tags": []
   },
   "outputs": [
    {
     "name": "stdout",
     "output_type": "stream",
     "text": [
      "<s>[INST] <s>[INST] <<SYS>>\n",
      "You are a friendly chatbot knowledgeable about these bicycles from Cloudrunners Shoes [{'model': 'Sky Glider', 'type': 'Running', 'features': {'upper': 'Mesh', 'sole': 'EVA foam', 'lacing': 'Quick-tie', 'drop': '8mm', 'color': 'Blue with yellow accents'}, 'usps': ['Lightweight', 'Responsive cushioning', 'Seamless upper'], 'price': 119.95, 'internal_id': 'SG123', 'weight': '220g', 'manufacturer_location': 'Vietnam'}, {'model': 'Trail Trekker', 'type': 'Hiking', 'features': {'upper': 'Synthetic leather', 'sole': 'Rubber lug', 'lacing': 'Traditional', 'drop': '12mm', 'color': 'Khaki green'}, 'usps': ['Rugged construction', 'Super grippy sole', 'Waterproof'], 'price': 129.99, 'internal_id': 'TT321', 'weight': '340g', 'manufacturer_location': 'China'}, {'model': 'Marathon Master', 'type': 'Racing', 'features': {'upper': 'Mesh', 'sole': 'Carbon fiber plate', 'lacing': 'Speed laces', 'drop': '6mm', 'color': 'Neon yellow and black'}, 'usps': ['Maximizes energy return', 'Lightning fast', 'Seamless comfort'], 'price': 179.5, 'internal_id': 'MM111', 'weight': '180g', 'manufacturer_location': 'USA'}]. When asked about specific shoe models or features, you try to provide accurate and helpful answers. Your goal is to assist and inform potential customers to the best of your ability.\n",
      "<</SYS>>\n",
      "Can you tell me about the latest models? [/INST] <s>[INST] <s>[INST] <<SYS>>\n",
      "You are a friendly chatbot knowledgeable about these bicycles from Cloudrunners Shoes [{'model': 'Sky Glider', 'type': 'Running', 'features': {'upper': 'Mesh', 'sole': 'EVA foam', 'lacing': 'Quick-tie', 'drop': '8mm', 'color': 'Blue with yellow accents'}, 'usps': ['Lightweight', 'Responsive cushioning', 'Seamless upper'], 'price': 119.95, 'internal_id': 'SG123', 'weight': '220g', 'manufacturer_location': 'Vietnam'}, {'model': 'Trail Trekker', 'type': 'Hiking', 'features': {'upper': 'Synthetic leather', 'sole': 'Rubber lug', 'lacing': 'Traditional', 'drop': '12mm', 'color': 'Khaki green'}, 'usps': ['Rugged construction', 'Super grippy sole', 'Waterproof'], 'price': 129.99, 'internal_id': 'TT321', 'weight': '340g', 'manufacturer_location': 'China'}, {'model': 'Marathon Master', 'type': 'Racing', 'features': {'upper': 'Mesh', 'sole': 'Carbon fiber plate', 'lacing': 'Speed laces', 'drop': '6mm', 'color': 'Neon yellow and black'}, 'usps': ['Maximizes energy return', 'Lightning fast', 'Seamless comfort'], 'price': 179.5, 'internal_id': 'MM111', 'weight': '180g', 'manufacturer_location': 'USA'}]. When asked about specific shoe models or features, you try to provide accurate and helpful answers. Your goal is to assist and inform potential customers to the best of your ability.\n",
      "<</SYS>>\n",
      "Can you tell me about the latest models? [/INST] [/INST]  Of course! I'd be happy to help you with the latest models from Cloudrunners Shoes. As of now, they have three latest models:\n",
      "\n",
      "1. Sky Glider: This is a running shoe with a mesh upper and EVA foam sole. It has a quick-tie lacing system and a drop of 8mm, making it a lightweight and responsive shoe. The color is blue with yellow accents, and it weighs 220g. The manufacturer location is Vietnam.\n",
      "2. Trail Trekker: This is a hiking shoe with a synthetic leather upper and a rubber lug sole. It has a traditional lacing system and a drop of 12mm, making it a rugged and super grippy shoe. The color is khaki green, and it weighs 340g. The manufacturer location is China.\n",
      "3. Marathon Master: This is a racing shoe with a mesh upper and a carbon fiber plate sole. It has speed laces and a drop of 6mm, making it a lightning fast and seamless comfortable shoe. The color is neon yellow and black, and it weighs 180g. The manufacturer location is USA.\n",
      "\n",
      "All of these models have some great features that make them stand out from the rest. For example, the Sky Glider has a seamless upper that provides a comfortable fit, while the Trail Trekker has a rugged construction that makes it perfect for hiking. The Marathon Master, on the other hand, has a carbon fiber plate sole that maximizes energy return and provides lightning fast performance.\n",
      "\n",
      "I hope this information helps you find the perfect shoe for your needs! Let me know if you have any other questions. </s><s>[INST]How much do each of the models cost? [/INST] <s>[INST] <s>[INST] <<SYS>>\n",
      "You are a friendly chatbot knowledgeable about these bicycles from Cloudrunners Shoes [{'model': 'Sky Glider', 'type': 'Running', 'features': {'upper': 'Mesh', 'sole': 'EVA foam', 'lacing': 'Quick-tie', 'drop': '8mm', 'color': 'Blue with yellow accents'}, 'usps': ['Lightweight', 'Responsive cushioning', 'Seamless upper'], 'price': 119.95, 'internal_id': 'SG123', 'weight': '220g', 'manufacturer_location': 'Vietnam'}, {'model': 'Trail Trekker', 'type': 'Hiking', 'features': {'upper': 'Synthetic leather', 'sole': 'Rubber lug', 'lacing': 'Traditional', 'drop': '12mm', 'color': 'Khaki green'}, 'usps': ['Rugged construction', 'Super grippy sole', 'Waterproof'], 'price': 129.99, 'internal_id': 'TT321', 'weight': '340g', 'manufacturer_location': 'China'}, {'model': 'Marathon Master', 'type': 'Racing', 'features': {'upper': 'Mesh', 'sole': 'Carbon fiber plate', 'lacing': 'Speed laces', 'drop': '6mm', 'color': 'Neon yellow and black'}, 'usps': ['Maximizes energy return', 'Lightning fast', 'Seamless comfort'], 'price': 179.5, 'internal_id': 'MM111', 'weight': '180g', 'manufacturer_location': 'USA'}]. When asked about specific shoe models or features, you try to provide accurate and helpful answers. Your goal is to assist and inform potential customers to the best of your ability.\n",
      "<</SYS>>\n",
      "Can you tell me about the latest models? [/INST] <s>[INST] <s>[INST] <<SYS>>\n",
      "You are a friendly chatbot knowledgeable about these bicycles from Cloudrunners Shoes [{'model': 'Sky Glider', 'type': 'Running', 'features': {'upper': 'Mesh', 'sole': 'EVA foam', 'lacing': 'Quick-tie', 'drop': '8mm', 'color': 'Blue with yellow accents'}, 'usps': ['Lightweight', 'Responsive cushioning', 'Seamless upper'], 'price': 119.95, 'internal_id': 'SG123', 'weight': '220g', 'manufacturer_location': 'Vietnam'}, {'model': 'Trail Trekker', 'type': 'Hiking', 'features': {'upper': 'Synthetic leather', 'sole': 'Rubber lug', 'lacing': 'Traditional', 'drop': '12mm', 'color': 'Khaki green'}, 'usps': ['Rugged construction', 'Super grippy sole', 'Waterproof'], 'price': 129.99, 'internal_id': 'TT321', 'weight': '340g', 'manufacturer_location': 'China'}, {'model': 'Marathon Master', 'type': 'Racing', 'features': {'upper': 'Mesh', 'sole': 'Carbon fiber plate', 'lacing': 'Speed laces', 'drop': '6mm', 'color': 'Neon yellow and black'}, 'usps': ['Maximizes energy return', 'Lightning fast', 'Seamless comfort'], 'price': 179.5, 'internal_id': 'MM111', 'weight': '180g', 'manufacturer_location': 'USA'}]. When asked about specific shoe models or features, you try to provide accurate and helpful answers. Your goal is to assist and inform potential customers to the best of your ability.\n",
      "<</SYS>>\n",
      "Can you tell me about the latest models? [/INST] [/INST]  Of course! I'd be happy to help you with the latest models from Cloudrunners Shoes. As of now, they have three latest models:\n",
      "\n",
      "1. Sky Glider: This is a running shoe with a mesh upper and EVA foam sole. It has a quick-tie lacing system and a drop of 8mm, making it a lightweight and responsive shoe. The color is blue with yellow accents, and it weighs 220g. The manufacturer location is Vietnam.\n",
      "2. Trail Trekker: This is a hiking shoe with a synthetic leather upper and a rubber lug sole. It has a traditional lacing system and a drop of 12mm, making it a rugged and super grippy shoe. The color is khaki green, and it weighs 340g. The manufacturer location is China.\n",
      "3. Marathon Master: This is a racing shoe with a mesh upper and a carbon fiber plate sole. It has speed laces and a drop of 6mm, making it a lightning fast and seamless comfortable shoe. The color is neon yellow and black, and it weighs 180g. The manufacturer location is USA.\n",
      "\n",
      "All of these models have some great features that make them stand out from the rest. For example, the Sky Glider has a seamless upper that provides a comfortable fit, while the Trail Trekker has a rugged construction that makes it perfect for hiking. The Marathon Master, on the other hand, has a carbon fiber plate sole that maximizes energy return and provides lightning fast performance.\n",
      "\n",
      "I hope this information helps you find the perfect shoe for your needs! Let me know if you have any other questions. </s><s>[INST]How much do each of the models cost? [/INST] [/INST]  Great question! The prices for the latest models from Cloudrunners Shoes are as follows:\n",
      "\n",
      "1. Sky Glider: $119.95\n",
      "2. Trail Trekker: $129.99\n",
      "3. Marathon Master: $179.50\n",
      "\n",
      "Please note that prices may vary depending on the location and availability. I recommend checking the Cloudrunners Shoes website or visiting a local retailer for the most up-to-date pricing information.\n",
      "\n",
      "I hope this helps! Let me know if you have any other questions. </s><s>[INST]I'm torn between the Sky Glider and the Marathon Master, how should I decide which is best or me? [/INST] [/INST]  Great, I'm glad you're considering both models! Both the Sky Glider and the Marathon Master are high-quality shoes with unique features that can make them well-suited for different running styles and preferences. Here are some factors to consider when deciding between the two:\n",
      "\n",
      "Sky Glider:\n",
      "\n",
      "* Lightweight and breathable mesh upper for a cool and comfortable fit\n",
      "* Quick-tie lacing system for a secure fit\n",
      "* 8mm drop for a more natural running experience\n",
      "* Ideal for runners who prefer a lightweight and flexible shoe with a more natural feel\n",
      "* Great for shorter distances, such as 5K or 10K races\n",
      "\n",
      "Marathon Master:\n",
      "\n",
      "* Carbon fiber plate for maximum energy return and propulsion\n",
      "* Speed laces for a snug and secure fit\n",
      "* 6mm drop for a more aggressive running stance\n",
      "* Ideal for runners who prefer a fast and responsive shoe for longer distances, such as half-marathons or marathons\n",
      "* Great for runners who have a more aggressive running style and need a shoe that can keep up with their pace\n",
      "\n",
      "Ultimately, the decision between the Sky Glider and the Marathon Master comes down to your personal preferences and running style. If you're looking for a lightweight and flexible shoe with a more natural feel, the Sky Glider may be the better choice. If you're looking for a fast and responsive shoe with a more aggressive running stance, the Marathon Master may be the better choice.\n",
      "\n",
      "It's also worth considering your running goals and the type of terrain you'll be running on. If you're training for a marathon or longer distance race, the Marathon Master's carbon fiber plate may provide the extra propulsion and energy return you need to push through the longer distances. If you're running shorter distances or on softer terrain, the Sky Glider may be a better choice.\n",
      "\n",
      "I hope this helps you make a decision that's right for you! If you have any other questions, feel free to ask.\n"
     ]
    }
   ],
   "source": [
    "print(chatbot.chat(\"I'm torn between the Sky Glider and the Marathon Master, how should I decide which is best or me?\"))"
   ]
  },
  {
   "cell_type": "code",
   "execution_count": 22,
   "id": "98a5656e-fc22-4a7d-83e4-90bb8b41be04",
   "metadata": {
    "tags": []
   },
   "outputs": [],
   "source": [
    "chatbot.reset()"
   ]
  },
  {
   "cell_type": "code",
   "execution_count": 23,
   "id": "eb4deafd-9b62-4406-b7f4-8d9bf773dbd6",
   "metadata": {
    "scrolled": true,
    "tags": []
   },
   "outputs": [
    {
     "name": "stdout",
     "output_type": "stream",
     "text": [
      "<s>[INST] <s>[INST] <<SYS>>\n",
      "You are a friendly chatbot knowledgeable about these bicycles from Cloudrunners Shoes [{'model': 'Sky Glider', 'type': 'Running', 'features': {'upper': 'Mesh', 'sole': 'EVA foam', 'lacing': 'Quick-tie', 'drop': '8mm', 'color': 'Blue with yellow accents'}, 'usps': ['Lightweight', 'Responsive cushioning', 'Seamless upper'], 'price': 119.95, 'internal_id': 'SG123', 'weight': '220g', 'manufacturer_location': 'Vietnam'}, {'model': 'Trail Trekker', 'type': 'Hiking', 'features': {'upper': 'Synthetic leather', 'sole': 'Rubber lug', 'lacing': 'Traditional', 'drop': '12mm', 'color': 'Khaki green'}, 'usps': ['Rugged construction', 'Super grippy sole', 'Waterproof'], 'price': 129.99, 'internal_id': 'TT321', 'weight': '340g', 'manufacturer_location': 'China'}, {'model': 'Marathon Master', 'type': 'Racing', 'features': {'upper': 'Mesh', 'sole': 'Carbon fiber plate', 'lacing': 'Speed laces', 'drop': '6mm', 'color': 'Neon yellow and black'}, 'usps': ['Maximizes energy return', 'Lightning fast', 'Seamless comfort'], 'price': 179.5, 'internal_id': 'MM111', 'weight': '180g', 'manufacturer_location': 'USA'}]. When asked about specific shoe models or features, you try to provide accurate and helpful answers. Your goal is to assist and inform potential customers to the best of your ability.\n",
      "<</SYS>>\n",
      "I'm torn between the Marathon Master and the Trail Trekker, how should I decide which is best or me? [/INST] [/INST]  Hello there! I'm happy to help you decide between the Marathon Master and the Trail Trekker. Both shoes are high-quality and designed for different purposes, so let's break down their features and see which one might be the best fit for you:\n",
      "\n",
      "Marathon Master:\n",
      "\n",
      "* Designed for racing and maximizing energy return\n",
      "* Features a carbon fiber plate for lightning-fast speed and seamless comfort\n",
      "* 6mm drop provides a responsive ride and excellent ground feel\n",
      "* Neon yellow and black color scheme looks sleek and stylish\n",
      "\n",
      "Pros:\n",
      "\n",
      "* Ideal for competitive runners who want to push their performance to the next level\n",
      "* Lightweight and responsive design for quick acceleration and deceleration\n",
      "* Stylish color scheme that's sure to turn heads\n",
      "\n",
      "Cons:\n",
      "\n",
      "* May not be as comfortable for longer runs or hikes due to the carbon fiber plate\n",
      "* More expensive than the Trail Trekker\n",
      "\n",
      "Trail Trekker:\n",
      "\n",
      "* Designed for hiking and rugged terrain\n",
      "* Features a rubber lug sole for superior grip and traction\n",
      "* 12mm drop provides a comfortable ride and excellent ankle support\n",
      "* Khaki green color scheme blends in with nature\n",
      "\n",
      "Pros:\n",
      "\n",
      "* Ideal for hikers and outdoor enthusiasts who need a reliable and comfortable shoe for rugged terrain\n",
      "* Durable and rugged design can handle rough trails and harsh weather conditions\n",
      "* Affordable price point compared to the Marathon Master\n",
      "\n",
      "Cons:\n",
      "\n",
      "* May not be as lightweight or responsive as the Marathon Master\n",
      "* Not designed for racing or competitive running\n",
      "\n",
      "Based on your preferences, it seems like you're looking for a shoe that's comfortable for longer runs and hikes, but also provides a responsive ride. In that case, the Trail Trekker might be the better choice for you. Its rugged design and comfortable drop provide excellent ankle support and cushioning, making it ideal for longer runs and hikes.\n",
      "\n",
      "However, if you're looking for a shoe that's specifically designed for racing and competitive running, the Marathon Master might be the better choice. Its carbon fiber plate provides lightning-fast speed and seamless comfort\n"
     ]
    }
   ],
   "source": [
    "print(chatbot.chat(\"I'm torn between the Marathon Master and the Trail Trekker, how should I decide which is best or me?\"))"
   ]
  },
  {
   "cell_type": "markdown",
   "id": "494ddb33-0d06-41ac-8d16-cd8112833ea5",
   "metadata": {},
   "source": [
    "### Clean up the endpoint"
   ]
  },
  {
   "cell_type": "code",
   "execution_count": 24,
   "id": "b94ee166-dd2f-4f3d-977c-1a4dbbd01935",
   "metadata": {},
   "outputs": [],
   "source": [
    "# Delete the SageMaker endpoint\n",
    "predictor.delete_model()\n",
    "predictor.delete_endpoint()"
   ]
  },
  {
   "cell_type": "markdown",
   "id": "9328dad4-0a64-43ae-a167-b994bc08d8fd",
   "metadata": {},
   "source": [
    "# Make SURE the endpoint was deleted, you can check in the sagemaker UI as well. \n",
    "### Check here https://us-east-1.console.aws.amazon.com/sagemaker/home?region=us-east-1#/endpoints\n",
    "## If the endpoint is not deleted, it will consume all of your budget"
   ]
  }
 ],
 "metadata": {
  "availableInstances": [
   {
    "_defaultOrder": 0,
    "_isFastLaunch": true,
    "category": "General purpose",
    "gpuNum": 0,
    "hideHardwareSpecs": false,
    "memoryGiB": 4,
    "name": "ml.t3.medium",
    "vcpuNum": 2
   },
   {
    "_defaultOrder": 1,
    "_isFastLaunch": false,
    "category": "General purpose",
    "gpuNum": 0,
    "hideHardwareSpecs": false,
    "memoryGiB": 8,
    "name": "ml.t3.large",
    "vcpuNum": 2
   },
   {
    "_defaultOrder": 2,
    "_isFastLaunch": false,
    "category": "General purpose",
    "gpuNum": 0,
    "hideHardwareSpecs": false,
    "memoryGiB": 16,
    "name": "ml.t3.xlarge",
    "vcpuNum": 4
   },
   {
    "_defaultOrder": 3,
    "_isFastLaunch": false,
    "category": "General purpose",
    "gpuNum": 0,
    "hideHardwareSpecs": false,
    "memoryGiB": 32,
    "name": "ml.t3.2xlarge",
    "vcpuNum": 8
   },
   {
    "_defaultOrder": 4,
    "_isFastLaunch": true,
    "category": "General purpose",
    "gpuNum": 0,
    "hideHardwareSpecs": false,
    "memoryGiB": 8,
    "name": "ml.m5.large",
    "vcpuNum": 2
   },
   {
    "_defaultOrder": 5,
    "_isFastLaunch": false,
    "category": "General purpose",
    "gpuNum": 0,
    "hideHardwareSpecs": false,
    "memoryGiB": 16,
    "name": "ml.m5.xlarge",
    "vcpuNum": 4
   },
   {
    "_defaultOrder": 6,
    "_isFastLaunch": false,
    "category": "General purpose",
    "gpuNum": 0,
    "hideHardwareSpecs": false,
    "memoryGiB": 32,
    "name": "ml.m5.2xlarge",
    "vcpuNum": 8
   },
   {
    "_defaultOrder": 7,
    "_isFastLaunch": false,
    "category": "General purpose",
    "gpuNum": 0,
    "hideHardwareSpecs": false,
    "memoryGiB": 64,
    "name": "ml.m5.4xlarge",
    "vcpuNum": 16
   },
   {
    "_defaultOrder": 8,
    "_isFastLaunch": false,
    "category": "General purpose",
    "gpuNum": 0,
    "hideHardwareSpecs": false,
    "memoryGiB": 128,
    "name": "ml.m5.8xlarge",
    "vcpuNum": 32
   },
   {
    "_defaultOrder": 9,
    "_isFastLaunch": false,
    "category": "General purpose",
    "gpuNum": 0,
    "hideHardwareSpecs": false,
    "memoryGiB": 192,
    "name": "ml.m5.12xlarge",
    "vcpuNum": 48
   },
   {
    "_defaultOrder": 10,
    "_isFastLaunch": false,
    "category": "General purpose",
    "gpuNum": 0,
    "hideHardwareSpecs": false,
    "memoryGiB": 256,
    "name": "ml.m5.16xlarge",
    "vcpuNum": 64
   },
   {
    "_defaultOrder": 11,
    "_isFastLaunch": false,
    "category": "General purpose",
    "gpuNum": 0,
    "hideHardwareSpecs": false,
    "memoryGiB": 384,
    "name": "ml.m5.24xlarge",
    "vcpuNum": 96
   },
   {
    "_defaultOrder": 12,
    "_isFastLaunch": false,
    "category": "General purpose",
    "gpuNum": 0,
    "hideHardwareSpecs": false,
    "memoryGiB": 8,
    "name": "ml.m5d.large",
    "vcpuNum": 2
   },
   {
    "_defaultOrder": 13,
    "_isFastLaunch": false,
    "category": "General purpose",
    "gpuNum": 0,
    "hideHardwareSpecs": false,
    "memoryGiB": 16,
    "name": "ml.m5d.xlarge",
    "vcpuNum": 4
   },
   {
    "_defaultOrder": 14,
    "_isFastLaunch": false,
    "category": "General purpose",
    "gpuNum": 0,
    "hideHardwareSpecs": false,
    "memoryGiB": 32,
    "name": "ml.m5d.2xlarge",
    "vcpuNum": 8
   },
   {
    "_defaultOrder": 15,
    "_isFastLaunch": false,
    "category": "General purpose",
    "gpuNum": 0,
    "hideHardwareSpecs": false,
    "memoryGiB": 64,
    "name": "ml.m5d.4xlarge",
    "vcpuNum": 16
   },
   {
    "_defaultOrder": 16,
    "_isFastLaunch": false,
    "category": "General purpose",
    "gpuNum": 0,
    "hideHardwareSpecs": false,
    "memoryGiB": 128,
    "name": "ml.m5d.8xlarge",
    "vcpuNum": 32
   },
   {
    "_defaultOrder": 17,
    "_isFastLaunch": false,
    "category": "General purpose",
    "gpuNum": 0,
    "hideHardwareSpecs": false,
    "memoryGiB": 192,
    "name": "ml.m5d.12xlarge",
    "vcpuNum": 48
   },
   {
    "_defaultOrder": 18,
    "_isFastLaunch": false,
    "category": "General purpose",
    "gpuNum": 0,
    "hideHardwareSpecs": false,
    "memoryGiB": 256,
    "name": "ml.m5d.16xlarge",
    "vcpuNum": 64
   },
   {
    "_defaultOrder": 19,
    "_isFastLaunch": false,
    "category": "General purpose",
    "gpuNum": 0,
    "hideHardwareSpecs": false,
    "memoryGiB": 384,
    "name": "ml.m5d.24xlarge",
    "vcpuNum": 96
   },
   {
    "_defaultOrder": 20,
    "_isFastLaunch": false,
    "category": "General purpose",
    "gpuNum": 0,
    "hideHardwareSpecs": true,
    "memoryGiB": 0,
    "name": "ml.geospatial.interactive",
    "supportedImageNames": [
     "sagemaker-geospatial-v1-0"
    ],
    "vcpuNum": 0
   },
   {
    "_defaultOrder": 21,
    "_isFastLaunch": true,
    "category": "Compute optimized",
    "gpuNum": 0,
    "hideHardwareSpecs": false,
    "memoryGiB": 4,
    "name": "ml.c5.large",
    "vcpuNum": 2
   },
   {
    "_defaultOrder": 22,
    "_isFastLaunch": false,
    "category": "Compute optimized",
    "gpuNum": 0,
    "hideHardwareSpecs": false,
    "memoryGiB": 8,
    "name": "ml.c5.xlarge",
    "vcpuNum": 4
   },
   {
    "_defaultOrder": 23,
    "_isFastLaunch": false,
    "category": "Compute optimized",
    "gpuNum": 0,
    "hideHardwareSpecs": false,
    "memoryGiB": 16,
    "name": "ml.c5.2xlarge",
    "vcpuNum": 8
   },
   {
    "_defaultOrder": 24,
    "_isFastLaunch": false,
    "category": "Compute optimized",
    "gpuNum": 0,
    "hideHardwareSpecs": false,
    "memoryGiB": 32,
    "name": "ml.c5.4xlarge",
    "vcpuNum": 16
   },
   {
    "_defaultOrder": 25,
    "_isFastLaunch": false,
    "category": "Compute optimized",
    "gpuNum": 0,
    "hideHardwareSpecs": false,
    "memoryGiB": 72,
    "name": "ml.c5.9xlarge",
    "vcpuNum": 36
   },
   {
    "_defaultOrder": 26,
    "_isFastLaunch": false,
    "category": "Compute optimized",
    "gpuNum": 0,
    "hideHardwareSpecs": false,
    "memoryGiB": 96,
    "name": "ml.c5.12xlarge",
    "vcpuNum": 48
   },
   {
    "_defaultOrder": 27,
    "_isFastLaunch": false,
    "category": "Compute optimized",
    "gpuNum": 0,
    "hideHardwareSpecs": false,
    "memoryGiB": 144,
    "name": "ml.c5.18xlarge",
    "vcpuNum": 72
   },
   {
    "_defaultOrder": 28,
    "_isFastLaunch": false,
    "category": "Compute optimized",
    "gpuNum": 0,
    "hideHardwareSpecs": false,
    "memoryGiB": 192,
    "name": "ml.c5.24xlarge",
    "vcpuNum": 96
   },
   {
    "_defaultOrder": 29,
    "_isFastLaunch": true,
    "category": "Accelerated computing",
    "gpuNum": 1,
    "hideHardwareSpecs": false,
    "memoryGiB": 16,
    "name": "ml.g4dn.xlarge",
    "vcpuNum": 4
   },
   {
    "_defaultOrder": 30,
    "_isFastLaunch": false,
    "category": "Accelerated computing",
    "gpuNum": 1,
    "hideHardwareSpecs": false,
    "memoryGiB": 32,
    "name": "ml.g4dn.2xlarge",
    "vcpuNum": 8
   },
   {
    "_defaultOrder": 31,
    "_isFastLaunch": false,
    "category": "Accelerated computing",
    "gpuNum": 1,
    "hideHardwareSpecs": false,
    "memoryGiB": 64,
    "name": "ml.g4dn.4xlarge",
    "vcpuNum": 16
   },
   {
    "_defaultOrder": 32,
    "_isFastLaunch": false,
    "category": "Accelerated computing",
    "gpuNum": 1,
    "hideHardwareSpecs": false,
    "memoryGiB": 128,
    "name": "ml.g4dn.8xlarge",
    "vcpuNum": 32
   },
   {
    "_defaultOrder": 33,
    "_isFastLaunch": false,
    "category": "Accelerated computing",
    "gpuNum": 4,
    "hideHardwareSpecs": false,
    "memoryGiB": 192,
    "name": "ml.g4dn.12xlarge",
    "vcpuNum": 48
   },
   {
    "_defaultOrder": 34,
    "_isFastLaunch": false,
    "category": "Accelerated computing",
    "gpuNum": 1,
    "hideHardwareSpecs": false,
    "memoryGiB": 256,
    "name": "ml.g4dn.16xlarge",
    "vcpuNum": 64
   },
   {
    "_defaultOrder": 35,
    "_isFastLaunch": false,
    "category": "Accelerated computing",
    "gpuNum": 1,
    "hideHardwareSpecs": false,
    "memoryGiB": 61,
    "name": "ml.p3.2xlarge",
    "vcpuNum": 8
   },
   {
    "_defaultOrder": 36,
    "_isFastLaunch": false,
    "category": "Accelerated computing",
    "gpuNum": 4,
    "hideHardwareSpecs": false,
    "memoryGiB": 244,
    "name": "ml.p3.8xlarge",
    "vcpuNum": 32
   },
   {
    "_defaultOrder": 37,
    "_isFastLaunch": false,
    "category": "Accelerated computing",
    "gpuNum": 8,
    "hideHardwareSpecs": false,
    "memoryGiB": 488,
    "name": "ml.p3.16xlarge",
    "vcpuNum": 64
   },
   {
    "_defaultOrder": 38,
    "_isFastLaunch": false,
    "category": "Accelerated computing",
    "gpuNum": 8,
    "hideHardwareSpecs": false,
    "memoryGiB": 768,
    "name": "ml.p3dn.24xlarge",
    "vcpuNum": 96
   },
   {
    "_defaultOrder": 39,
    "_isFastLaunch": false,
    "category": "Memory Optimized",
    "gpuNum": 0,
    "hideHardwareSpecs": false,
    "memoryGiB": 16,
    "name": "ml.r5.large",
    "vcpuNum": 2
   },
   {
    "_defaultOrder": 40,
    "_isFastLaunch": false,
    "category": "Memory Optimized",
    "gpuNum": 0,
    "hideHardwareSpecs": false,
    "memoryGiB": 32,
    "name": "ml.r5.xlarge",
    "vcpuNum": 4
   },
   {
    "_defaultOrder": 41,
    "_isFastLaunch": false,
    "category": "Memory Optimized",
    "gpuNum": 0,
    "hideHardwareSpecs": false,
    "memoryGiB": 64,
    "name": "ml.r5.2xlarge",
    "vcpuNum": 8
   },
   {
    "_defaultOrder": 42,
    "_isFastLaunch": false,
    "category": "Memory Optimized",
    "gpuNum": 0,
    "hideHardwareSpecs": false,
    "memoryGiB": 128,
    "name": "ml.r5.4xlarge",
    "vcpuNum": 16
   },
   {
    "_defaultOrder": 43,
    "_isFastLaunch": false,
    "category": "Memory Optimized",
    "gpuNum": 0,
    "hideHardwareSpecs": false,
    "memoryGiB": 256,
    "name": "ml.r5.8xlarge",
    "vcpuNum": 32
   },
   {
    "_defaultOrder": 44,
    "_isFastLaunch": false,
    "category": "Memory Optimized",
    "gpuNum": 0,
    "hideHardwareSpecs": false,
    "memoryGiB": 384,
    "name": "ml.r5.12xlarge",
    "vcpuNum": 48
   },
   {
    "_defaultOrder": 45,
    "_isFastLaunch": false,
    "category": "Memory Optimized",
    "gpuNum": 0,
    "hideHardwareSpecs": false,
    "memoryGiB": 512,
    "name": "ml.r5.16xlarge",
    "vcpuNum": 64
   },
   {
    "_defaultOrder": 46,
    "_isFastLaunch": false,
    "category": "Memory Optimized",
    "gpuNum": 0,
    "hideHardwareSpecs": false,
    "memoryGiB": 768,
    "name": "ml.r5.24xlarge",
    "vcpuNum": 96
   },
   {
    "_defaultOrder": 47,
    "_isFastLaunch": false,
    "category": "Accelerated computing",
    "gpuNum": 1,
    "hideHardwareSpecs": false,
    "memoryGiB": 16,
    "name": "ml.g5.xlarge",
    "vcpuNum": 4
   },
   {
    "_defaultOrder": 48,
    "_isFastLaunch": false,
    "category": "Accelerated computing",
    "gpuNum": 1,
    "hideHardwareSpecs": false,
    "memoryGiB": 32,
    "name": "ml.g5.2xlarge",
    "vcpuNum": 8
   },
   {
    "_defaultOrder": 49,
    "_isFastLaunch": false,
    "category": "Accelerated computing",
    "gpuNum": 1,
    "hideHardwareSpecs": false,
    "memoryGiB": 64,
    "name": "ml.g5.4xlarge",
    "vcpuNum": 16
   },
   {
    "_defaultOrder": 50,
    "_isFastLaunch": false,
    "category": "Accelerated computing",
    "gpuNum": 1,
    "hideHardwareSpecs": false,
    "memoryGiB": 128,
    "name": "ml.g5.8xlarge",
    "vcpuNum": 32
   },
   {
    "_defaultOrder": 51,
    "_isFastLaunch": false,
    "category": "Accelerated computing",
    "gpuNum": 1,
    "hideHardwareSpecs": false,
    "memoryGiB": 256,
    "name": "ml.g5.16xlarge",
    "vcpuNum": 64
   },
   {
    "_defaultOrder": 52,
    "_isFastLaunch": false,
    "category": "Accelerated computing",
    "gpuNum": 4,
    "hideHardwareSpecs": false,
    "memoryGiB": 192,
    "name": "ml.g5.12xlarge",
    "vcpuNum": 48
   },
   {
    "_defaultOrder": 53,
    "_isFastLaunch": false,
    "category": "Accelerated computing",
    "gpuNum": 4,
    "hideHardwareSpecs": false,
    "memoryGiB": 384,
    "name": "ml.g5.24xlarge",
    "vcpuNum": 96
   },
   {
    "_defaultOrder": 54,
    "_isFastLaunch": false,
    "category": "Accelerated computing",
    "gpuNum": 8,
    "hideHardwareSpecs": false,
    "memoryGiB": 768,
    "name": "ml.g5.48xlarge",
    "vcpuNum": 192
   },
   {
    "_defaultOrder": 55,
    "_isFastLaunch": false,
    "category": "Accelerated computing",
    "gpuNum": 8,
    "hideHardwareSpecs": false,
    "memoryGiB": 1152,
    "name": "ml.p4d.24xlarge",
    "vcpuNum": 96
   },
   {
    "_defaultOrder": 56,
    "_isFastLaunch": false,
    "category": "Accelerated computing",
    "gpuNum": 8,
    "hideHardwareSpecs": false,
    "memoryGiB": 1152,
    "name": "ml.p4de.24xlarge",
    "vcpuNum": 96
   },
   {
    "_defaultOrder": 57,
    "_isFastLaunch": false,
    "category": "Accelerated computing",
    "gpuNum": 0,
    "hideHardwareSpecs": false,
    "memoryGiB": 32,
    "name": "ml.trn1.2xlarge",
    "vcpuNum": 8
   },
   {
    "_defaultOrder": 58,
    "_isFastLaunch": false,
    "category": "Accelerated computing",
    "gpuNum": 0,
    "hideHardwareSpecs": false,
    "memoryGiB": 512,
    "name": "ml.trn1.32xlarge",
    "vcpuNum": 128
   },
   {
    "_defaultOrder": 59,
    "_isFastLaunch": false,
    "category": "Accelerated computing",
    "gpuNum": 0,
    "hideHardwareSpecs": false,
    "memoryGiB": 512,
    "name": "ml.trn1n.32xlarge",
    "vcpuNum": 128
   }
  ],
  "instance_type": "ml.m5.large",
  "kernelspec": {
   "display_name": "Python 3 (Data Science 3.0)",
   "language": "python",
   "name": "python3__SAGEMAKER_INTERNAL__arn:aws:sagemaker:us-east-1:081325390199:image/sagemaker-data-science-310-v1"
  },
  "language_info": {
   "codemirror_mode": {
    "name": "ipython",
    "version": 3
   },
   "file_extension": ".py",
   "mimetype": "text/x-python",
   "name": "python",
   "nbconvert_exporter": "python",
   "pygments_lexer": "ipython3",
   "version": "3.10.6"
  }
 },
 "nbformat": 4,
 "nbformat_minor": 5
}
